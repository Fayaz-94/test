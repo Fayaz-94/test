{
 "cells": [
  {
   "cell_type": "code",
   "execution_count": null,
   "id": "ab9d8335",
   "metadata": {},
   "outputs": [],
   "source": [
    "Foundational Area :\n",
    "    \n",
    "Sql + python + Github"
   ]
  },
  {
   "cell_type": "code",
   "execution_count": null,
   "id": "9f8e3e5b",
   "metadata": {},
   "outputs": [],
   "source": []
  },
  {
   "cell_type": "code",
   "execution_count": null,
   "id": "a563cfdb",
   "metadata": {},
   "outputs": [],
   "source": [
    "Intermediate Level : ( Big Data technologies)\n",
    "    \n",
    "Hadoop + Spark + Hive + Sqoop + Airflow\n",
    "\n",
    "\n",
    "DF API ====>\n",
    "\n",
    "SQL : can you pls write the 2nd highest salary in sql \n",
    "    \n",
    "pyspark : can you pls write the 2nd highest salary using pyspark DF API ------?\n",
    "    \n",
    "Databricks =====> Community edition ====>\n",
    "\n",
    "Pyspark ====4\n",
    "\n",
    "\n",
    "interview discussion : 45 mins - 1 hours (15 mins ====> DF , SQL , python) ======> practise\n",
    "    \n",
    "    \n",
    "sql  ====> 60 - 70 %\n",
    "\n",
    "python ===> 25 %"
   ]
  },
  {
   "cell_type": "code",
   "execution_count": null,
   "id": "7aba6135",
   "metadata": {},
   "outputs": [],
   "source": []
  },
  {
   "cell_type": "code",
   "execution_count": null,
   "id": "005701bb",
   "metadata": {},
   "outputs": [],
   "source": [
    "Advance level + Cloud :\n",
    "    \n",
    "AWS :\n",
    "    \n",
    "IAM + S3 + Athena + EMR + AWS Glue + Lambda\n",
    "\n",
    "\n",
    "Cloud services :\n",
    "    \n",
    "Snowflake + DBT + Kafka"
   ]
  },
  {
   "cell_type": "code",
   "execution_count": null,
   "id": "2c6dd243",
   "metadata": {},
   "outputs": [],
   "source": []
  },
  {
   "cell_type": "code",
   "execution_count": null,
   "id": "fd7ada6a",
   "metadata": {},
   "outputs": [],
   "source": [
    "Hackerrank =====> creat your account in Hacker - 1 hour\n",
    "\n",
    "Geeksforgeeks ===> 1 hour\n",
    "\n",
    "Leetcode ====> this is the final stage"
   ]
  },
  {
   "cell_type": "code",
   "execution_count": null,
   "id": "72d7e517",
   "metadata": {},
   "outputs": [],
   "source": []
  },
  {
   "cell_type": "code",
   "execution_count": null,
   "id": "e66c94a2",
   "metadata": {},
   "outputs": [],
   "source": [
    "Pyspark - DF AP1 -----> \n",
    "\n",
    "\n",
    "community edition ---"
   ]
  },
  {
   "cell_type": "code",
   "execution_count": null,
   "id": "12f14584",
   "metadata": {},
   "outputs": [],
   "source": []
  },
  {
   "cell_type": "code",
   "execution_count": null,
   "id": "57ed59c5",
   "metadata": {},
   "outputs": [],
   "source": []
  },
  {
   "cell_type": "code",
   "execution_count": null,
   "id": "01e49b10",
   "metadata": {},
   "outputs": [],
   "source": [
    "Time Table :\n",
    "\n",
    "\n",
    "sql  ======> 30 mins   Theory   Harcker Rank + 45 mins Geeksforgeeks ----45 mins more sql  ===2 hours **\n",
    "python ====> 30 mins   Theory   Harcker Rank + 45 mins Geeksforgeeks ----45 mins more sql ==== 2 hours  **\n",
    "\n",
    "Hadoop  ====> 15 - 20 mins\n",
    "spark   ========> 1 hours ----> guller revision theory  + 1 hours on Databricks practise ===> practicals ***\n",
    "hive   ====> 15 - 20 mins\n",
    "airflow  ====> 15 - 20 mins\n",
    "sqoop  ====> 15 - 20 mins\n",
    "\n",
    "\n",
    "AWS : 1.5 hours\n",
    "\n",
    "\n",
    "Snowflake ----> 1 hours\n",
    "\n",
    "\n",
    "7 - 8 hours"
   ]
  },
  {
   "cell_type": "code",
   "execution_count": null,
   "id": "2240634d",
   "metadata": {},
   "outputs": [],
   "source": []
  },
  {
   "cell_type": "code",
   "execution_count": null,
   "id": "273d1154",
   "metadata": {},
   "outputs": [],
   "source": [
    "2 - 4+ years  14 LPA ----> Base stand  ======> 20 LPA\n",
    "\n",
    "\n",
    "8 + years =====> 20 LPA   Base ======> 30 - 35 LPA"
   ]
  },
  {
   "cell_type": "code",
   "execution_count": null,
   "id": "83fa4211",
   "metadata": {},
   "outputs": [],
   "source": []
  },
  {
   "cell_type": "code",
   "execution_count": null,
   "id": "08b587a6",
   "metadata": {},
   "outputs": [],
   "source": []
  },
  {
   "cell_type": "code",
   "execution_count": null,
   "id": "113633a3",
   "metadata": {},
   "outputs": [],
   "source": []
  }
 ],
 "metadata": {
  "kernelspec": {
   "display_name": "Python 3 (ipykernel)",
   "language": "python",
   "name": "python3"
  },
  "language_info": {
   "codemirror_mode": {
    "name": "ipython",
    "version": 3
   },
   "file_extension": ".py",
   "mimetype": "text/x-python",
   "name": "python",
   "nbconvert_exporter": "python",
   "pygments_lexer": "ipython3",
   "version": "3.9.12"
  }
 },
 "nbformat": 4,
 "nbformat_minor": 5
}
